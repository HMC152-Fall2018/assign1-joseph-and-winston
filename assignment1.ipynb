{
 "cells": [
  {
   "cell_type": "code",
   "execution_count": 2,
   "metadata": {},
   "outputs": [],
   "source": [
    "%reload_ext autoreload\n",
    "%autoreload 2\n",
    "%matplotlib inline"
   ]
  },
  {
   "cell_type": "code",
   "execution_count": 3,
   "metadata": {},
   "outputs": [
    {
     "name": "stderr",
     "output_type": "stream",
     "text": [
      "/home/jgardi/.local/lib/python3.6/site-packages/sklearn/ensemble/weight_boosting.py:29: DeprecationWarning: numpy.core.umath_tests is an internal NumPy module and should not be imported. It will be removed in a future NumPy release.\n",
      "  from numpy.core.umath_tests import inner1d\n"
     ]
    }
   ],
   "source": [
    "from fastai.imports import *\n",
    "from fastai.transforms import *\n",
    "from fastai.conv_learner import *\n",
    "from fastai.model import *\n",
    "from fastai.dataset import *\n",
    "from fastai.sgdr import *\n",
    "from fastai.plots import *"
   ]
  },
  {
   "cell_type": "code",
   "execution_count": 4,
   "metadata": {},
   "outputs": [],
   "source": [
    "PATH = \"/home/jgardi/breed/data\""
   ]
  },
  {
   "cell_type": "code",
   "execution_count": 5,
   "metadata": {},
   "outputs": [],
   "source": [
    "sz=224"
   ]
  },
  {
   "cell_type": "code",
   "execution_count": 6,
   "metadata": {},
   "outputs": [
    {
     "data": {
      "text/plain": [
       "True"
      ]
     },
     "execution_count": 6,
     "metadata": {},
     "output_type": "execute_result"
    }
   ],
   "source": [
    "torch.cuda.is_available()"
   ]
  },
  {
   "cell_type": "code",
   "execution_count": 7,
   "metadata": {},
   "outputs": [
    {
     "data": {
      "text/plain": [
       "True"
      ]
     },
     "execution_count": 7,
     "metadata": {},
     "output_type": "execute_result"
    }
   ],
   "source": [
    "torch.backends.cudnn.enabled"
   ]
  },
  {
   "cell_type": "code",
   "execution_count": 8,
   "metadata": {},
   "outputs": [],
   "source": [
    "arch=resnet34"
   ]
  },
  {
   "cell_type": "code",
   "execution_count": 9,
   "metadata": {},
   "outputs": [],
   "source": [
    "data = ImageClassifierData.from_paths(PATH, tfms=tfms_from_model(arch, sz),\n",
    "                                      test_name=\"test1\")"
   ]
  },
  {
   "cell_type": "code",
   "execution_count": 10,
   "metadata": {},
   "outputs": [
    {
     "data": {
      "text/plain": [
       "<fastai.dataset.ImageClassifierData at 0x7f97d755e6a0>"
      ]
     },
     "execution_count": 10,
     "metadata": {},
     "output_type": "execute_result"
    }
   ],
   "source": [
    "data"
   ]
  },
  {
   "cell_type": "code",
   "execution_count": 11,
   "metadata": {},
   "outputs": [],
   "source": [
    "learn = ConvLearner.pretrained(arch, data, precompute=True)"
   ]
  },
  {
   "cell_type": "code",
   "execution_count": 12,
   "metadata": {},
   "outputs": [
    {
     "data": {
      "application/vnd.jupyter.widget-view+json": {
       "model_id": "e0999d194a2a435983592d4ae4bc20c9",
       "version_major": 2,
       "version_minor": 0
      },
      "text/plain": [
       "HBox(children=(IntProgress(value=0, description='Epoch', max=2), HTML(value='')))"
      ]
     },
     "metadata": {},
     "output_type": "display_data"
    },
    {
     "name": "stdout",
     "output_type": "stream",
     "text": [
      "epoch      trn_loss   val_loss   accuracy   \n",
      "    0      2.120773   1.032691   0.770615  \n",
      "    1      1.071725   0.690181   0.817091  \n",
      "\n"
     ]
    },
    {
     "data": {
      "text/plain": [
       "[array([0.69018]), 0.8170914543175447]"
      ]
     },
     "execution_count": 12,
     "metadata": {},
     "output_type": "execute_result"
    }
   ],
   "source": [
    "learn.fit(0.01, 2)"
   ]
  },
  {
   "cell_type": "code",
   "execution_count": 13,
   "metadata": {},
   "outputs": [],
   "source": [
    "log_preds, y = learn.predict_with_targs(is_test=True)"
   ]
  },
  {
   "cell_type": "code",
   "execution_count": 14,
   "metadata": {},
   "outputs": [],
   "source": [
    "probs = np.exp(log_preds)"
   ]
  },
  {
   "cell_type": "code",
   "execution_count": 15,
   "metadata": {},
   "outputs": [],
   "source": [
    "df = pd.DataFrame(probs)"
   ]
  },
  {
   "cell_type": "code",
   "execution_count": 16,
   "metadata": {},
   "outputs": [
    {
     "data": {
      "text/plain": [
       "(10357, 120)"
      ]
     },
     "execution_count": 16,
     "metadata": {},
     "output_type": "execute_result"
    }
   ],
   "source": [
    "probs.shape"
   ]
  },
  {
   "cell_type": "code",
   "execution_count": 17,
   "metadata": {},
   "outputs": [
    {
     "data": {
      "text/plain": [
       "120"
      ]
     },
     "execution_count": 17,
     "metadata": {},
     "output_type": "execute_result"
    }
   ],
   "source": [
    "len(data.classes)"
   ]
  },
  {
   "cell_type": "code",
   "execution_count": 18,
   "metadata": {},
   "outputs": [
    {
     "data": {
      "text/plain": [
       "array([[0.00009, 0.00155, 0.00787, ..., 0.03007, 0.00125, 0.00071],\n",
       "       [0.00429, 0.00042, 0.00082, ..., 0.00014, 0.0006 , 0.00015],\n",
       "       [0.00003, 0.00011, 0.00015, ..., 0.0002 , 0.0001 , 0.00003],\n",
       "       ...,\n",
       "       [0.00081, 0.00014, 0.00009, ..., 0.00022, 0.39518, 0.00017],\n",
       "       [0.00079, 0.00005, 0.00206, ..., 0.00099, 0.00043, 0.00391],\n",
       "       [0.00153, 0.00001, 0.00002, ..., 0.00001, 0.00001, 0.00515]], dtype=float32)"
      ]
     },
     "execution_count": 18,
     "metadata": {},
     "output_type": "execute_result"
    }
   ],
   "source": [
    "probs"
   ]
  },
  {
   "cell_type": "code",
   "execution_count": 19,
   "metadata": {},
   "outputs": [],
   "source": [
    "df.insert(0, 'id', [o[6:-4] for o in data.test_ds.fnames])"
   ]
  },
  {
   "cell_type": "code",
   "execution_count": 20,
   "metadata": {},
   "outputs": [
    {
     "data": {
      "text/html": [
       "<div>\n",
       "<style scoped>\n",
       "    .dataframe tbody tr th:only-of-type {\n",
       "        vertical-align: middle;\n",
       "    }\n",
       "\n",
       "    .dataframe tbody tr th {\n",
       "        vertical-align: top;\n",
       "    }\n",
       "\n",
       "    .dataframe thead th {\n",
       "        text-align: right;\n",
       "    }\n",
       "</style>\n",
       "<table border=\"1\" class=\"dataframe\">\n",
       "  <thead>\n",
       "    <tr style=\"text-align: right;\">\n",
       "      <th></th>\n",
       "      <th>id</th>\n",
       "      <th>0</th>\n",
       "      <th>1</th>\n",
       "      <th>2</th>\n",
       "      <th>3</th>\n",
       "      <th>4</th>\n",
       "      <th>5</th>\n",
       "      <th>6</th>\n",
       "      <th>7</th>\n",
       "      <th>8</th>\n",
       "      <th>...</th>\n",
       "      <th>110</th>\n",
       "      <th>111</th>\n",
       "      <th>112</th>\n",
       "      <th>113</th>\n",
       "      <th>114</th>\n",
       "      <th>115</th>\n",
       "      <th>116</th>\n",
       "      <th>117</th>\n",
       "      <th>118</th>\n",
       "      <th>119</th>\n",
       "    </tr>\n",
       "  </thead>\n",
       "  <tbody>\n",
       "    <tr>\n",
       "      <th>0</th>\n",
       "      <td>f1705303b30da3a48db2a5f34376b947</td>\n",
       "      <td>0.000094</td>\n",
       "      <td>0.001553</td>\n",
       "      <td>0.007870</td>\n",
       "      <td>0.007585</td>\n",
       "      <td>0.005196</td>\n",
       "      <td>0.000571</td>\n",
       "      <td>0.000128</td>\n",
       "      <td>0.000962</td>\n",
       "      <td>0.000525</td>\n",
       "      <td>...</td>\n",
       "      <td>0.001229</td>\n",
       "      <td>0.000864</td>\n",
       "      <td>0.201892</td>\n",
       "      <td>0.001758</td>\n",
       "      <td>0.262648</td>\n",
       "      <td>0.001474</td>\n",
       "      <td>0.001227</td>\n",
       "      <td>0.030068</td>\n",
       "      <td>0.001255</td>\n",
       "      <td>0.000710</td>\n",
       "    </tr>\n",
       "    <tr>\n",
       "      <th>1</th>\n",
       "      <td>a9b79809bc1301f8d148e15bfecf6485</td>\n",
       "      <td>0.004286</td>\n",
       "      <td>0.000419</td>\n",
       "      <td>0.000822</td>\n",
       "      <td>0.000112</td>\n",
       "      <td>0.000728</td>\n",
       "      <td>0.000478</td>\n",
       "      <td>0.000687</td>\n",
       "      <td>0.000163</td>\n",
       "      <td>0.000140</td>\n",
       "      <td>...</td>\n",
       "      <td>0.000771</td>\n",
       "      <td>0.000278</td>\n",
       "      <td>0.000051</td>\n",
       "      <td>0.000370</td>\n",
       "      <td>0.000196</td>\n",
       "      <td>0.000328</td>\n",
       "      <td>0.125225</td>\n",
       "      <td>0.000144</td>\n",
       "      <td>0.000599</td>\n",
       "      <td>0.000147</td>\n",
       "    </tr>\n",
       "    <tr>\n",
       "      <th>2</th>\n",
       "      <td>cc94a3bb7191a247f59e1540d8430c93</td>\n",
       "      <td>0.000027</td>\n",
       "      <td>0.000110</td>\n",
       "      <td>0.000152</td>\n",
       "      <td>0.000094</td>\n",
       "      <td>0.000067</td>\n",
       "      <td>0.035262</td>\n",
       "      <td>0.000035</td>\n",
       "      <td>0.000101</td>\n",
       "      <td>0.000113</td>\n",
       "      <td>...</td>\n",
       "      <td>0.000050</td>\n",
       "      <td>0.000011</td>\n",
       "      <td>0.000021</td>\n",
       "      <td>0.000164</td>\n",
       "      <td>0.000013</td>\n",
       "      <td>0.000723</td>\n",
       "      <td>0.000037</td>\n",
       "      <td>0.000202</td>\n",
       "      <td>0.000097</td>\n",
       "      <td>0.000030</td>\n",
       "    </tr>\n",
       "    <tr>\n",
       "      <th>3</th>\n",
       "      <td>f7b489a38302afc010d8a386a1b7d085</td>\n",
       "      <td>0.000015</td>\n",
       "      <td>0.000141</td>\n",
       "      <td>0.000117</td>\n",
       "      <td>0.000102</td>\n",
       "      <td>0.000104</td>\n",
       "      <td>0.065264</td>\n",
       "      <td>0.000049</td>\n",
       "      <td>0.000642</td>\n",
       "      <td>0.000335</td>\n",
       "      <td>...</td>\n",
       "      <td>0.000206</td>\n",
       "      <td>0.000029</td>\n",
       "      <td>0.000056</td>\n",
       "      <td>0.000214</td>\n",
       "      <td>0.000021</td>\n",
       "      <td>0.000164</td>\n",
       "      <td>0.000016</td>\n",
       "      <td>0.000204</td>\n",
       "      <td>0.000061</td>\n",
       "      <td>0.000033</td>\n",
       "    </tr>\n",
       "    <tr>\n",
       "      <th>4</th>\n",
       "      <td>6e21c96226078576342ca66e25eb1aa9</td>\n",
       "      <td>0.013116</td>\n",
       "      <td>0.001546</td>\n",
       "      <td>0.000423</td>\n",
       "      <td>0.002438</td>\n",
       "      <td>0.000373</td>\n",
       "      <td>0.000609</td>\n",
       "      <td>0.000218</td>\n",
       "      <td>0.000135</td>\n",
       "      <td>0.000031</td>\n",
       "      <td>...</td>\n",
       "      <td>0.000077</td>\n",
       "      <td>0.000073</td>\n",
       "      <td>0.002621</td>\n",
       "      <td>0.000228</td>\n",
       "      <td>0.000973</td>\n",
       "      <td>0.000382</td>\n",
       "      <td>0.000113</td>\n",
       "      <td>0.000764</td>\n",
       "      <td>0.000749</td>\n",
       "      <td>0.000563</td>\n",
       "    </tr>\n",
       "  </tbody>\n",
       "</table>\n",
       "<p>5 rows × 121 columns</p>\n",
       "</div>"
      ],
      "text/plain": [
       "                                 id         0         1         2         3  \\\n",
       "0  f1705303b30da3a48db2a5f34376b947  0.000094  0.001553  0.007870  0.007585   \n",
       "1  a9b79809bc1301f8d148e15bfecf6485  0.004286  0.000419  0.000822  0.000112   \n",
       "2  cc94a3bb7191a247f59e1540d8430c93  0.000027  0.000110  0.000152  0.000094   \n",
       "3  f7b489a38302afc010d8a386a1b7d085  0.000015  0.000141  0.000117  0.000102   \n",
       "4  6e21c96226078576342ca66e25eb1aa9  0.013116  0.001546  0.000423  0.002438   \n",
       "\n",
       "          4         5         6         7         8    ...          110  \\\n",
       "0  0.005196  0.000571  0.000128  0.000962  0.000525    ...     0.001229   \n",
       "1  0.000728  0.000478  0.000687  0.000163  0.000140    ...     0.000771   \n",
       "2  0.000067  0.035262  0.000035  0.000101  0.000113    ...     0.000050   \n",
       "3  0.000104  0.065264  0.000049  0.000642  0.000335    ...     0.000206   \n",
       "4  0.000373  0.000609  0.000218  0.000135  0.000031    ...     0.000077   \n",
       "\n",
       "        111       112       113       114       115       116       117  \\\n",
       "0  0.000864  0.201892  0.001758  0.262648  0.001474  0.001227  0.030068   \n",
       "1  0.000278  0.000051  0.000370  0.000196  0.000328  0.125225  0.000144   \n",
       "2  0.000011  0.000021  0.000164  0.000013  0.000723  0.000037  0.000202   \n",
       "3  0.000029  0.000056  0.000214  0.000021  0.000164  0.000016  0.000204   \n",
       "4  0.000073  0.002621  0.000228  0.000973  0.000382  0.000113  0.000764   \n",
       "\n",
       "        118       119  \n",
       "0  0.001255  0.000710  \n",
       "1  0.000599  0.000147  \n",
       "2  0.000097  0.000030  \n",
       "3  0.000061  0.000033  \n",
       "4  0.000749  0.000563  \n",
       "\n",
       "[5 rows x 121 columns]"
      ]
     },
     "execution_count": 20,
     "metadata": {},
     "output_type": "execute_result"
    }
   ],
   "source": [
    "df.head()"
   ]
  },
  {
   "cell_type": "code",
   "execution_count": 21,
   "metadata": {},
   "outputs": [],
   "source": [
    "SUBM = '/home/jgardi/'\n",
    "os.makedirs(SUBM, exist_ok=True)\n",
    "df.to_csv(f'{SUBM}results.gz', compression='gzip', index=False)"
   ]
  },
  {
   "cell_type": "code",
   "execution_count": 26,
   "metadata": {},
   "outputs": [
    {
     "data": {
      "image/png": "[encoded data removed]",
      "text/plain": [
       "<IPython.core.display.Image object>"
      ]
     },
     "execution_count": 26,
     "metadata": {},
     "output_type": "execute_result"
    }
   ],
   "source": [
    "from IPython.display import Image\n",
    "Image(\"kaggle_score.png\")"
   ]
  },
  {
   "cell_type": "code",
   "execution_count": null,
   "metadata": {},
   "outputs": [],
   "source": []
  }
 ],
 "metadata": {
  "kernelspec": {
   "display_name": "Python 3",
   "language": "python",
   "name": "python3"
  },
  "language_info": {
   "codemirror_mode": {
    "name": "ipython",
    "version": 3
   },
   "file_extension": ".py",
   "mimetype": "text/x-python",
   "name": "python",
   "nbconvert_exporter": "python",
   "pygments_lexer": "ipython3",
   "version": "3.6.6"
  }
 },
 "nbformat": 4,
 "nbformat_minor": 2
}
