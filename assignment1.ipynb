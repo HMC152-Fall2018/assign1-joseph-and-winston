{
 "cells": [
  {
   "cell_type": "code",
   "execution_count": 1,
   "metadata": {},
   "outputs": [],
   "source": [
    "%reload_ext autoreload\n",
    "%autoreload 2\n",
    "%matplotlib inline"
   ]
  },
  {
   "cell_type": "code",
   "execution_count": 3,
   "metadata": {},
   "outputs": [],
   "source": [
    "from fastai.imports import *\n",
    "from fastai.transforms import *\n",
    "from fastai.conv_learner import *\n",
    "from fastai.model import *\n",
    "from fastai.dataset import *\n",
    "from fastai.sgdr import *\n",
    "from fastai.plots import *"
   ]
  },
  {
   "cell_type": "code",
   "execution_count": 1,
   "metadata": {},
   "outputs": [],
   "source": [
    "PATH = \"/home/jgardi/breed/data\""
   ]
  },
  {
   "cell_type": "code",
   "execution_count": 5,
   "metadata": {},
   "outputs": [],
   "source": [
    "sz=224"
   ]
  },
  {
   "cell_type": "code",
   "execution_count": 6,
   "metadata": {},
   "outputs": [
    {
     "data": {
      "text/plain": [
       "True"
      ]
     },
     "execution_count": 6,
     "metadata": {},
     "output_type": "execute_result"
    }
   ],
   "source": [
    "torch.cuda.is_available()"
   ]
  },
  {
   "cell_type": "code",
   "execution_count": 7,
   "metadata": {},
   "outputs": [
    {
     "data": {
      "text/plain": [
       "True"
      ]
     },
     "execution_count": 7,
     "metadata": {},
     "output_type": "execute_result"
    }
   ],
   "source": [
    "torch.backends.cudnn.enabled"
   ]
  },
  {
   "cell_type": "code",
   "execution_count": 8,
   "metadata": {},
   "outputs": [],
   "source": [
    "arch=resnet34"
   ]
  },
  {
   "cell_type": "code",
   "execution_count": 22,
   "metadata": {},
   "outputs": [],
   "source": [
    "data = ImageClassifierData.from_paths(PATH, tfms=tfms_from_model(arch, sz),\n",
    "                                      test_name=\"test1\")"
   ]
  },
  {
   "cell_type": "code",
   "execution_count": 23,
   "metadata": {},
   "outputs": [
    {
     "data": {
      "text/plain": [
       "<fastai.dataset.ImageClassifierData at 0x7f4388228d30>"
      ]
     },
     "execution_count": 23,
     "metadata": {},
     "output_type": "execute_result"
    }
   ],
   "source": [
    "data"
   ]
  },
  {
   "cell_type": "code",
   "execution_count": 24,
   "metadata": {},
   "outputs": [
    {
     "name": "stdout",
     "output_type": "stream",
     "text": [
      "100%|██████████| 162/162 [00:54<00:00,  2.75it/s]\n"
     ]
    }
   ],
   "source": [
    "learn = ConvLearner.pretrained(arch, data, precompute=True)"
   ]
  },
  {
   "cell_type": "code",
   "execution_count": 25,
   "metadata": {},
   "outputs": [
    {
     "data": {
      "application/vnd.jupyter.widget-view+json": {
       "model_id": "9f7fc0c6194c4b3aab9daab9046a6bf5",
       "version_major": 2,
       "version_minor": 0
      },
      "text/plain": [
       "HBox(children=(IntProgress(value=0, description='Epoch', max=2), HTML(value='')))"
      ]
     },
     "metadata": {},
     "output_type": "display_data"
    },
    {
     "name": "stdout",
     "output_type": "stream",
     "text": [
      "epoch      trn_loss   val_loss   accuracy   \n",
      "    0      2.147083   1.053086   0.769615  \n",
      "    1      1.097199   0.687138   0.813593  \n",
      "\n"
     ]
    },
    {
     "data": {
      "text/plain": [
       "[array([0.68714]), 0.8135932034727694]"
      ]
     },
     "execution_count": 25,
     "metadata": {},
     "output_type": "execute_result"
    }
   ],
   "source": [
    "learn.fit(0.01, 2)"
   ]
  },
  {
   "cell_type": "code",
   "execution_count": 27,
   "metadata": {},
   "outputs": [],
   "source": [
    "log_preds, y = learn.predict_with_targs(is_test=True)"
   ]
  },
  {
   "cell_type": "code",
   "execution_count": 28,
   "metadata": {},
   "outputs": [],
   "source": [
    "probs = np.exp(log_preds)"
   ]
  },
  {
   "cell_type": "code",
   "execution_count": 49,
   "metadata": {},
   "outputs": [],
   "source": [
    "df = pd.DataFrame(probs)"
   ]
  },
  {
   "cell_type": "code",
   "execution_count": 32,
   "metadata": {},
   "outputs": [
    {
     "data": {
      "text/plain": [
       "(10357, 120)"
      ]
     },
     "execution_count": 32,
     "metadata": {},
     "output_type": "execute_result"
    }
   ],
   "source": [
    "probs.shape"
   ]
  },
  {
   "cell_type": "code",
   "execution_count": 43,
   "metadata": {},
   "outputs": [
    {
     "data": {
      "text/plain": [
       "120"
      ]
     },
     "execution_count": 43,
     "metadata": {},
     "output_type": "execute_result"
    }
   ],
   "source": [
    "len(data.classes)"
   ]
  },
  {
   "cell_type": "code",
   "execution_count": 45,
   "metadata": {},
   "outputs": [
    {
     "data": {
      "text/plain": [
       "array([[0.00001, 0.00056, 0.00018, ..., 0.0062 , 0.00016, 0.00015],\n",
       "       [0.00408, 0.00026, 0.00047, ..., 0.00042, 0.00022, 0.0002 ],\n",
       "       [0.00017, 0.00038, 0.00067, ..., 0.00012, 0.00021, 0.00006],\n",
       "       ...,\n",
       "       [0.00013, 0.00002, 0.00026, ..., 0.00007, 0.49047, 0.00013],\n",
       "       [0.00061, 0.00007, 0.00159, ..., 0.00133, 0.0003 , 0.00128],\n",
       "       [0.00061, 0.     , 0.00001, ..., 0.00001, 0.00001, 0.00039]], dtype=float32)"
      ]
     },
     "execution_count": 45,
     "metadata": {},
     "output_type": "execute_result"
    }
   ],
   "source": [
    "probs"
   ]
  },
  {
   "cell_type": "code",
   "execution_count": 50,
   "metadata": {},
   "outputs": [],
   "source": [
    "df.insert(0, 'id', [o[6:-4] for o in data.test_ds.fnames])"
   ]
  },
  {
   "cell_type": "code",
   "execution_count": 51,
   "metadata": {},
   "outputs": [
    {
     "data": {
      "text/html": [
       "<div>\n",
       "<style scoped>\n",
       "    .dataframe tbody tr th:only-of-type {\n",
       "        vertical-align: middle;\n",
       "    }\n",
       "\n",
       "    .dataframe tbody tr th {\n",
       "        vertical-align: top;\n",
       "    }\n",
       "\n",
       "    .dataframe thead th {\n",
       "        text-align: right;\n",
       "    }\n",
       "</style>\n",
       "<table border=\"1\" class=\"dataframe\">\n",
       "  <thead>\n",
       "    <tr style=\"text-align: right;\">\n",
       "      <th></th>\n",
       "      <th>id</th>\n",
       "      <th>0</th>\n",
       "      <th>1</th>\n",
       "      <th>2</th>\n",
       "      <th>3</th>\n",
       "      <th>4</th>\n",
       "      <th>5</th>\n",
       "      <th>6</th>\n",
       "      <th>7</th>\n",
       "      <th>8</th>\n",
       "      <th>...</th>\n",
       "      <th>110</th>\n",
       "      <th>111</th>\n",
       "      <th>112</th>\n",
       "      <th>113</th>\n",
       "      <th>114</th>\n",
       "      <th>115</th>\n",
       "      <th>116</th>\n",
       "      <th>117</th>\n",
       "      <th>118</th>\n",
       "      <th>119</th>\n",
       "    </tr>\n",
       "  </thead>\n",
       "  <tbody>\n",
       "    <tr>\n",
       "      <th>0</th>\n",
       "      <td>f1705303b30da3a48db2a5f34376b947</td>\n",
       "      <td>0.000011</td>\n",
       "      <td>0.000563</td>\n",
       "      <td>0.000177</td>\n",
       "      <td>0.001880</td>\n",
       "      <td>0.010761</td>\n",
       "      <td>0.000167</td>\n",
       "      <td>0.000046</td>\n",
       "      <td>0.000248</td>\n",
       "      <td>0.000259</td>\n",
       "      <td>...</td>\n",
       "      <td>0.000087</td>\n",
       "      <td>0.000172</td>\n",
       "      <td>0.030022</td>\n",
       "      <td>0.001112</td>\n",
       "      <td>0.525458</td>\n",
       "      <td>0.000123</td>\n",
       "      <td>0.000064</td>\n",
       "      <td>0.006198</td>\n",
       "      <td>0.000164</td>\n",
       "      <td>0.000154</td>\n",
       "    </tr>\n",
       "    <tr>\n",
       "      <th>1</th>\n",
       "      <td>a9b79809bc1301f8d148e15bfecf6485</td>\n",
       "      <td>0.004081</td>\n",
       "      <td>0.000263</td>\n",
       "      <td>0.000467</td>\n",
       "      <td>0.000065</td>\n",
       "      <td>0.000221</td>\n",
       "      <td>0.000479</td>\n",
       "      <td>0.000497</td>\n",
       "      <td>0.000338</td>\n",
       "      <td>0.000327</td>\n",
       "      <td>...</td>\n",
       "      <td>0.000840</td>\n",
       "      <td>0.000385</td>\n",
       "      <td>0.000100</td>\n",
       "      <td>0.000844</td>\n",
       "      <td>0.000311</td>\n",
       "      <td>0.000074</td>\n",
       "      <td>0.079746</td>\n",
       "      <td>0.000423</td>\n",
       "      <td>0.000222</td>\n",
       "      <td>0.000198</td>\n",
       "    </tr>\n",
       "    <tr>\n",
       "      <th>2</th>\n",
       "      <td>cc94a3bb7191a247f59e1540d8430c93</td>\n",
       "      <td>0.000167</td>\n",
       "      <td>0.000380</td>\n",
       "      <td>0.000670</td>\n",
       "      <td>0.000155</td>\n",
       "      <td>0.000078</td>\n",
       "      <td>0.033476</td>\n",
       "      <td>0.000033</td>\n",
       "      <td>0.000154</td>\n",
       "      <td>0.000131</td>\n",
       "      <td>...</td>\n",
       "      <td>0.000251</td>\n",
       "      <td>0.000064</td>\n",
       "      <td>0.000183</td>\n",
       "      <td>0.000495</td>\n",
       "      <td>0.000125</td>\n",
       "      <td>0.001247</td>\n",
       "      <td>0.000047</td>\n",
       "      <td>0.000121</td>\n",
       "      <td>0.000213</td>\n",
       "      <td>0.000059</td>\n",
       "    </tr>\n",
       "    <tr>\n",
       "      <th>3</th>\n",
       "      <td>f7b489a38302afc010d8a386a1b7d085</td>\n",
       "      <td>0.000070</td>\n",
       "      <td>0.000281</td>\n",
       "      <td>0.000177</td>\n",
       "      <td>0.000125</td>\n",
       "      <td>0.000113</td>\n",
       "      <td>0.160609</td>\n",
       "      <td>0.000021</td>\n",
       "      <td>0.000076</td>\n",
       "      <td>0.000447</td>\n",
       "      <td>...</td>\n",
       "      <td>0.000100</td>\n",
       "      <td>0.000044</td>\n",
       "      <td>0.000120</td>\n",
       "      <td>0.000825</td>\n",
       "      <td>0.000191</td>\n",
       "      <td>0.000499</td>\n",
       "      <td>0.000042</td>\n",
       "      <td>0.000505</td>\n",
       "      <td>0.000040</td>\n",
       "      <td>0.000111</td>\n",
       "    </tr>\n",
       "    <tr>\n",
       "      <th>4</th>\n",
       "      <td>6e21c96226078576342ca66e25eb1aa9</td>\n",
       "      <td>0.020426</td>\n",
       "      <td>0.002321</td>\n",
       "      <td>0.000854</td>\n",
       "      <td>0.001325</td>\n",
       "      <td>0.001078</td>\n",
       "      <td>0.001693</td>\n",
       "      <td>0.000450</td>\n",
       "      <td>0.000144</td>\n",
       "      <td>0.000260</td>\n",
       "      <td>...</td>\n",
       "      <td>0.000177</td>\n",
       "      <td>0.000306</td>\n",
       "      <td>0.001072</td>\n",
       "      <td>0.000119</td>\n",
       "      <td>0.000675</td>\n",
       "      <td>0.000197</td>\n",
       "      <td>0.000757</td>\n",
       "      <td>0.004974</td>\n",
       "      <td>0.001171</td>\n",
       "      <td>0.000375</td>\n",
       "    </tr>\n",
       "  </tbody>\n",
       "</table>\n",
       "<p>5 rows × 121 columns</p>\n",
       "</div>"
      ],
      "text/plain": [
       "                                 id         0         1         2         3  \\\n",
       "0  f1705303b30da3a48db2a5f34376b947  0.000011  0.000563  0.000177  0.001880   \n",
       "1  a9b79809bc1301f8d148e15bfecf6485  0.004081  0.000263  0.000467  0.000065   \n",
       "2  cc94a3bb7191a247f59e1540d8430c93  0.000167  0.000380  0.000670  0.000155   \n",
       "3  f7b489a38302afc010d8a386a1b7d085  0.000070  0.000281  0.000177  0.000125   \n",
       "4  6e21c96226078576342ca66e25eb1aa9  0.020426  0.002321  0.000854  0.001325   \n",
       "\n",
       "          4         5         6         7         8    ...          110  \\\n",
       "0  0.010761  0.000167  0.000046  0.000248  0.000259    ...     0.000087   \n",
       "1  0.000221  0.000479  0.000497  0.000338  0.000327    ...     0.000840   \n",
       "2  0.000078  0.033476  0.000033  0.000154  0.000131    ...     0.000251   \n",
       "3  0.000113  0.160609  0.000021  0.000076  0.000447    ...     0.000100   \n",
       "4  0.001078  0.001693  0.000450  0.000144  0.000260    ...     0.000177   \n",
       "\n",
       "        111       112       113       114       115       116       117  \\\n",
       "0  0.000172  0.030022  0.001112  0.525458  0.000123  0.000064  0.006198   \n",
       "1  0.000385  0.000100  0.000844  0.000311  0.000074  0.079746  0.000423   \n",
       "2  0.000064  0.000183  0.000495  0.000125  0.001247  0.000047  0.000121   \n",
       "3  0.000044  0.000120  0.000825  0.000191  0.000499  0.000042  0.000505   \n",
       "4  0.000306  0.001072  0.000119  0.000675  0.000197  0.000757  0.004974   \n",
       "\n",
       "        118       119  \n",
       "0  0.000164  0.000154  \n",
       "1  0.000222  0.000198  \n",
       "2  0.000213  0.000059  \n",
       "3  0.000040  0.000111  \n",
       "4  0.001171  0.000375  \n",
       "\n",
       "[5 rows x 121 columns]"
      ]
     },
     "execution_count": 51,
     "metadata": {},
     "output_type": "execute_result"
    }
   ],
   "source": [
    "df.head()"
   ]
  },
  {
   "cell_type": "code",
   "execution_count": 53,
   "metadata": {},
   "outputs": [],
   "source": [
    "SUBM = '/home/jgardi/'\n",
    "os.makedirs(SUBM, exist_ok=True)\n",
    "df.to_csv(f'{SUBM}results.gz', compression='gzip', index=False)"
   ]
  },
  {
   "cell_type": "code",
   "execution_count": null,
   "metadata": {},
   "outputs": [],
   "source": []
  },
  {
   "cell_type": "code",
   "execution_count": null,
   "metadata": {},
   "outputs": [],
   "source": []
  }
 ],
 "metadata": {
  "kernelspec": {
   "display_name": "Python 3",
   "language": "python",
   "name": "python3"
  },
  "language_info": {
   "codemirror_mode": {
    "name": "ipython",
    "version": 3
   },
   "file_extension": ".py",
   "mimetype": "text/x-python",
   "name": "python",
   "nbconvert_exporter": "python",
   "pygments_lexer": "ipython3",
   "version": "3.6.6"
  }
 },
 "nbformat": 4,
 "nbformat_minor": 2
}
